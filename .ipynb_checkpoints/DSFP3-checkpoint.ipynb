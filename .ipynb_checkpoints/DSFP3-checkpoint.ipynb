{
 "cells": [
  {
   "cell_type": "code",
   "execution_count": 1,
   "id": "7f1d90af",
   "metadata": {},
   "outputs": [
    {
     "name": "stdout",
     "output_type": "stream",
     "text": [
      "I love python\n"
     ]
    }
   ],
   "source": [
    "print(\"I love python\")"
   ]
  },
  {
   "cell_type": "code",
   "execution_count": 4,
   "id": "0e40304b",
   "metadata": {},
   "outputs": [
    {
     "data": {
      "text/plain": [
       "'The average of 2, 3, 5, 3.3333333333333335'"
      ]
     },
     "execution_count": 4,
     "metadata": {},
     "output_type": "execute_result"
    }
   ],
   "source": [
    "num1=2\n",
    "num2=3\n",
    "num3=5\n",
    "avg =  (num1 + num2 + num3) /3\n",
    "\"The average of {}, {}, {}, {}\".format(num1, num2, num3, avg)"
   ]
  },
  {
   "cell_type": "code",
   "execution_count": 5,
   "id": "f1c59f17",
   "metadata": {},
   "outputs": [
    {
     "name": "stdout",
     "output_type": "stream",
     "text": [
      "3.11.1 (tags/v3.11.1:a7a450f, Dec  6 2022, 19:58:39) [MSC v.1934 64 bit (AMD64)]\n"
     ]
    }
   ],
   "source": [
    "# to know the version of ur python\n",
    "import sys\n",
    "print(sys.version)"
   ]
  },
  {
   "cell_type": "code",
   "execution_count": null,
   "id": "5403d27a",
   "metadata": {},
   "outputs": [],
   "source": [
    "#to write outside, after inserting new cell, then click on code n select markdown. And to delete, click d two times"
   ]
  },
  {
   "cell_type": "markdown",
   "id": "6c6f3b91",
   "metadata": {},
   "source": [
    "my name is atajiri"
   ]
  },
  {
   "cell_type": "code",
   "execution_count": 7,
   "id": "927ab046",
   "metadata": {},
   "outputs": [
    {
     "ename": "SyntaxError",
     "evalue": "incomplete input (2188325128.py, line 3)",
     "output_type": "error",
     "traceback": [
      "\u001b[1;36m  Cell \u001b[1;32mIn[7], line 3\u001b[1;36m\u001b[0m\n\u001b[1;33m    dir(name\u001b[0m\n\u001b[1;37m            ^\u001b[0m\n\u001b[1;31mSyntaxError\u001b[0m\u001b[1;31m:\u001b[0m incomplete input\n"
     ]
    }
   ],
   "source": [
    "#how to check type of anna\n",
    "name = \"anna\"\n",
    "dir(name)"
   ]
  },
  {
   "cell_type": "code",
   "execution_count": 12,
   "id": "deb4d551",
   "metadata": {},
   "outputs": [
    {
     "name": "stdout",
     "output_type": "stream",
     "text": [
      "40\n"
     ]
    }
   ],
   "source": [
    "an = 5*8\n",
    "print(an)"
   ]
  },
  {
   "cell_type": "code",
   "execution_count": 15,
   "id": "2ecfa9ea",
   "metadata": {},
   "outputs": [
    {
     "name": "stdout",
     "output_type": "stream",
     "text": [
      "10 7\n"
     ]
    }
   ],
   "source": [
    "x = (3 + 2) * 2\n",
    "y = 3 + 2 * 2\n",
    "print(x, y)"
   ]
  },
  {
   "cell_type": "code",
   "execution_count": 17,
   "id": "d0df2ec2",
   "metadata": {},
   "outputs": [
    {
     "data": {
      "text/plain": [
       "'The value of x10'"
      ]
     },
     "execution_count": 17,
     "metadata": {},
     "output_type": "execute_result"
    }
   ],
   "source": [
    "\n",
    "\"The value of x\" + str(x)"
   ]
  },
  {
   "cell_type": "code",
   "execution_count": 18,
   "id": "811e27d0",
   "metadata": {},
   "outputs": [
    {
     "data": {
      "text/plain": [
       "'The value of x is 10'"
      ]
     },
     "execution_count": 18,
     "metadata": {},
     "output_type": "execute_result"
    }
   ],
   "source": [
    "\"The value of x is {}\".format(x)"
   ]
  },
  {
   "cell_type": "code",
   "execution_count": 22,
   "id": "090e3d49",
   "metadata": {},
   "outputs": [
    {
     "data": {
      "text/plain": [
       "34"
      ]
     },
     "execution_count": 22,
     "metadata": {},
     "output_type": "execute_result"
    }
   ],
   "source": [
    "ages = [23, 45, 34, 56, 27, 34]\n",
    "ages[2]"
   ]
  },
  {
   "cell_type": "code",
   "execution_count": 23,
   "id": "6c8296c0",
   "metadata": {},
   "outputs": [
    {
     "data": {
      "text/plain": [
       "[45, 34, 56]"
      ]
     },
     "execution_count": 23,
     "metadata": {},
     "output_type": "execute_result"
    }
   ],
   "source": [
    "ages[1:4]"
   ]
  },
  {
   "cell_type": "code",
   "execution_count": 29,
   "id": "df08a4a1",
   "metadata": {},
   "outputs": [
    {
     "data": {
      "text/plain": [
       "[20, 33, 19, 30, 19]"
      ]
     },
     "execution_count": 29,
     "metadata": {},
     "output_type": "execute_result"
    }
   ],
   "source": [
    "#to skip after \n",
    "ages[::2]"
   ]
  },
  {
   "cell_type": "code",
   "execution_count": 26,
   "id": "0274e726",
   "metadata": {},
   "outputs": [
    {
     "data": {
      "text/plain": [
       "[33, 20, 19, 23, 30, 18]"
      ]
     },
     "execution_count": 26,
     "metadata": {},
     "output_type": "execute_result"
    }
   ],
   "source": [
    "ages = [20, 22, 33, 20, 19, 23, 30, 18, 19]\n",
    "ages[2:8]"
   ]
  },
  {
   "cell_type": "code",
   "execution_count": 27,
   "id": "2fafbe84",
   "metadata": {},
   "outputs": [
    {
     "data": {
      "text/plain": [
       "[20, 19, 19]"
      ]
     },
     "execution_count": 27,
     "metadata": {},
     "output_type": "execute_result"
    }
   ],
   "source": [
    "ages[::4]\n"
   ]
  },
  {
   "cell_type": "code",
   "execution_count": 28,
   "id": "d6bc6636",
   "metadata": {},
   "outputs": [
    {
     "data": {
      "text/plain": [
       "204"
      ]
     },
     "execution_count": 28,
     "metadata": {},
     "output_type": "execute_result"
    }
   ],
   "source": [
    "sum(ages)"
   ]
  },
  {
   "cell_type": "code",
   "execution_count": 30,
   "id": "eb042d7d",
   "metadata": {},
   "outputs": [],
   "source": [
    "#asigning a new value to index position 0\n",
    "ages[0] = 22"
   ]
  },
  {
   "cell_type": "code",
   "execution_count": 31,
   "id": "48410abf",
   "metadata": {},
   "outputs": [
    {
     "data": {
      "text/plain": [
       "[22, 22, 33, 20, 19, 23, 30, 18, 19]"
      ]
     },
     "execution_count": 31,
     "metadata": {},
     "output_type": "execute_result"
    }
   ],
   "source": [
    "ages"
   ]
  },
  {
   "cell_type": "code",
   "execution_count": 8,
   "id": "45f6c2bb",
   "metadata": {},
   "outputs": [
    {
     "name": "stdout",
     "output_type": "stream",
     "text": [
      "20\n",
      "42\n",
      "75\n",
      "95\n",
      "114\n",
      "137\n",
      "167\n",
      "185\n",
      "204\n"
     ]
    }
   ],
   "source": [
    "ages = [20, 22, 33, 20, 19, 23, 30, 18, 19]\n",
    "sum_of_age = 0\n",
    "for age in ages:\n",
    "    sum_of_age = sum_of_age + age\n",
    "    print(sum_of_age)\n",
    "    "
   ]
  },
  {
   "cell_type": "code",
   "execution_count": 5,
   "id": "dd414c49",
   "metadata": {},
   "outputs": [
    {
     "data": {
      "text/plain": [
       "[33, 23, 30]"
      ]
     },
     "execution_count": 5,
     "metadata": {},
     "output_type": "execute_result"
    }
   ],
   "source": [
    "ages = [20, 22, 33, 20, 19, 23, 30, 18, 19]\n",
    "new_ages = []\n",
    "for age in ages:\n",
    "    if age> 22:\n",
    "        new_ages.append(age)\n",
    "new_ages\n",
    "   "
   ]
  },
  {
   "cell_type": "code",
   "execution_count": 9,
   "id": "6f5af621",
   "metadata": {},
   "outputs": [
    {
     "data": {
      "text/plain": [
       "[33, 23, 30]"
      ]
     },
     "execution_count": 9,
     "metadata": {},
     "output_type": "execute_result"
    }
   ],
   "source": [
    "ages = [20, 22, 33, 20, 19, 23, 30, 18, 19]\n",
    "new_ages = []\n",
    "for age in ages:\n",
    "    if age> 22:\n",
    "        new_ages.append(age)\n",
    "        if len(new_ages) > 3:\n",
    "            break\n",
    "new_ages"
   ]
  },
  {
   "cell_type": "code",
   "execution_count": 25,
   "id": "da4025a1",
   "metadata": {},
   "outputs": [
    {
     "name": "stdout",
     "output_type": "stream",
     "text": [
      "Enter number: 5\n",
      "120\n"
     ]
    }
   ],
   "source": [
    "n = int(input(\"Enter number: \"))\n",
    "factorials=1\n",
    "for x in range(1, n+1):\n",
    "     factorials *= x\n",
    "    \n",
    "print(factorials)"
   ]
  },
  {
   "cell_type": "code",
   "execution_count": 5,
   "id": "9394df52",
   "metadata": {},
   "outputs": [
    {
     "name": "stdout",
     "output_type": "stream",
     "text": [
      "1 x 1 = 1\n",
      "1 x 2 = 2\n",
      "1 x 3 = 3\n",
      "1 x 4 = 4\n",
      "1 x 5 = 5\n",
      "1 x 6 = 6\n",
      "1 x 7 = 7\n",
      "1 x 8 = 8\n",
      "1 x 9 = 9\n",
      "\n",
      "2 x 1 = 2\n",
      "2 x 2 = 4\n",
      "2 x 3 = 6\n",
      "2 x 4 = 8\n",
      "2 x 5 = 10\n",
      "2 x 6 = 12\n",
      "2 x 7 = 14\n",
      "2 x 8 = 16\n",
      "2 x 9 = 18\n",
      "\n",
      "3 x 1 = 3\n",
      "3 x 2 = 6\n",
      "3 x 3 = 9\n",
      "3 x 4 = 12\n",
      "3 x 5 = 15\n",
      "3 x 6 = 18\n",
      "3 x 7 = 21\n",
      "3 x 8 = 24\n",
      "3 x 9 = 27\n",
      "\n",
      "4 x 1 = 4\n",
      "4 x 2 = 8\n",
      "4 x 3 = 12\n",
      "4 x 4 = 16\n",
      "4 x 5 = 20\n",
      "4 x 6 = 24\n",
      "4 x 7 = 28\n",
      "4 x 8 = 32\n",
      "4 x 9 = 36\n",
      "\n",
      "5 x 1 = 5\n",
      "5 x 2 = 10\n",
      "5 x 3 = 15\n",
      "5 x 4 = 20\n",
      "5 x 5 = 25\n",
      "5 x 6 = 30\n",
      "5 x 7 = 35\n",
      "5 x 8 = 40\n",
      "5 x 9 = 45\n",
      "\n",
      "6 x 1 = 6\n",
      "6 x 2 = 12\n",
      "6 x 3 = 18\n",
      "6 x 4 = 24\n",
      "6 x 5 = 30\n",
      "6 x 6 = 36\n",
      "6 x 7 = 42\n",
      "6 x 8 = 48\n",
      "6 x 9 = 54\n",
      "\n",
      "7 x 1 = 7\n",
      "7 x 2 = 14\n",
      "7 x 3 = 21\n",
      "7 x 4 = 28\n",
      "7 x 5 = 35\n",
      "7 x 6 = 42\n",
      "7 x 7 = 49\n",
      "7 x 8 = 56\n",
      "7 x 9 = 63\n",
      "\n",
      "8 x 1 = 8\n",
      "8 x 2 = 16\n",
      "8 x 3 = 24\n",
      "8 x 4 = 32\n",
      "8 x 5 = 40\n",
      "8 x 6 = 48\n",
      "8 x 7 = 56\n",
      "8 x 8 = 64\n",
      "8 x 9 = 72\n",
      "\n",
      "9 x 1 = 9\n",
      "9 x 2 = 18\n",
      "9 x 3 = 27\n",
      "9 x 4 = 36\n",
      "9 x 5 = 45\n",
      "9 x 6 = 54\n",
      "9 x 7 = 63\n",
      "9 x 8 = 72\n",
      "9 x 9 = 81\n",
      "\n",
      "10 x 1 = 10\n",
      "10 x 2 = 20\n",
      "10 x 3 = 30\n",
      "10 x 4 = 40\n",
      "10 x 5 = 50\n",
      "10 x 6 = 60\n",
      "10 x 7 = 70\n",
      "10 x 8 = 80\n",
      "10 x 9 = 90\n",
      "\n"
     ]
    }
   ],
   "source": [
    "for num in range (1,11):\n",
    "    multiplier = 1\n",
    "    while multiplier < 10:\n",
    "        print(\"{} x {} = {}\".format(num, multiplier, num * multiplier))\n",
    "        multiplier += 1\n",
    "    \n",
    "    print(\"\")"
   ]
  },
  {
   "cell_type": "code",
   "execution_count": 9,
   "id": "fdd2d489",
   "metadata": {},
   "outputs": [
    {
     "name": "stdout",
     "output_type": "stream",
     "text": [
      "-5\n",
      "-4\n",
      "-3\n",
      "-2\n",
      "-1\n",
      "0\n",
      "1\n",
      "2\n",
      "3\n",
      "4\n"
     ]
    }
   ],
   "source": [
    "for num in range (-5,5):\n",
    "    print(num)"
   ]
  },
  {
   "cell_type": "code",
   "execution_count": 10,
   "id": "00bc0ef7",
   "metadata": {},
   "outputs": [
    {
     "name": "stdout",
     "output_type": "stream",
     "text": [
      "['rock', 'soul', 'pop']\n"
     ]
    }
   ],
   "source": [
    "genres = ['rock', 'soul', 'pop']\n",
    "print(genres)"
   ]
  },
  {
   "cell_type": "code",
   "execution_count": 13,
   "id": "776bc6cd",
   "metadata": {},
   "outputs": [
    {
     "name": "stdout",
     "output_type": "stream",
     "text": [
      "red\n",
      "yellow\n",
      "green\n",
      "purple\n"
     ]
    }
   ],
   "source": [
    "squares = ['red', 'yellow', 'green', 'purple']\n",
    "for square in squares:\n",
    "    print(square)"
   ]
  },
  {
   "cell_type": "code",
   "execution_count": 15,
   "id": "bc0b21c0",
   "metadata": {},
   "outputs": [
    {
     "name": "stdout",
     "output_type": "stream",
     "text": [
      "10\n",
      "9.5\n",
      "10\n",
      "8\n",
      "7.5\n"
     ]
    }
   ],
   "source": [
    "playListRatings = [10, 9.5, 10, 8, 7.5, 5, 10]\n",
    "for rating in playListRatings:\n",
    "    if rating  < 6:\n",
    "        break #the break means to stop the moment is got to 5\n",
    "    print(rating)"
   ]
  },
  {
   "cell_type": "code",
   "execution_count": 21,
   "id": "885ba952",
   "metadata": {},
   "outputs": [
    {
     "name": "stdout",
     "output_type": "stream",
     "text": [
      "10\n",
      "9.5\n",
      "10\n",
      "8\n",
      "7.5\n",
      "10\n"
     ]
    }
   ],
   "source": [
    "playListRatings = [10, 9.5, 10, 8, 7.5, 5, 10]\n",
    "for rating in playListRatings:\n",
    "    if rating  > 6:\n",
    "        print(rating)"
   ]
  },
  {
   "cell_type": "code",
   "execution_count": 24,
   "id": "c4ef4776",
   "metadata": {},
   "outputs": [
    {
     "ename": "NameError",
     "evalue": "name 'playListRating' is not defined",
     "output_type": "error",
     "traceback": [
      "\u001b[1;31m---------------------------------------------------------------------------\u001b[0m",
      "\u001b[1;31mNameError\u001b[0m                                 Traceback (most recent call last)",
      "Cell \u001b[1;32mIn[24], line 4\u001b[0m\n\u001b[0;32m      2\u001b[0m rating_indx \u001b[38;5;241m=\u001b[39m \u001b[38;5;241m0\u001b[39m\n\u001b[0;32m      3\u001b[0m \u001b[38;5;28;01mwhile\u001b[39;00m rating_indx \u001b[38;5;241m<\u001b[39m \u001b[38;5;28mlen\u001b[39m(playListRatings) \u001b[38;5;241m-\u001b[39m \u001b[38;5;241m1\u001b[39m: \u001b[38;5;66;03m#indicate yhe last digit\u001b[39;00m\n\u001b[1;32m----> 4\u001b[0m     \u001b[38;5;28;01mif\u001b[39;00m \u001b[43mplayListRating\u001b[49m[rating_indx] \u001b[38;5;241m<\u001b[39m \u001b[38;5;241m6\u001b[39m:\n\u001b[0;32m      5\u001b[0m         \u001b[38;5;28;01mbreak\u001b[39;00m\n\u001b[0;32m      6\u001b[0m     \u001b[38;5;28mprint\u001b[39m(palyListRatings[rating_indx])\n",
      "\u001b[1;31mNameError\u001b[0m: name 'playListRating' is not defined"
     ]
    }
   ],
   "source": [
    "playListRatings = [10, 9.5, 10, 8, 7.5, 5, 10]\n",
    "rating_indx = 0\n",
    "while rating_indx < len(playListRatings) - 1: #indicate yhe last digit\n",
    "    if playListRating[rating_indx] < 6:\n",
    "        break\n",
    "    print(palyListRatings[rating_indx])\n",
    "    rating_indx = rating_indx + 1"
   ]
  },
  {
   "cell_type": "code",
   "execution_count": null,
   "id": "09a161c9",
   "metadata": {},
   "outputs": [],
   "source": []
  }
 ],
 "metadata": {
  "kernelspec": {
   "display_name": "workspaceonecampus",
   "language": "python",
   "name": "workspaceonecampus"
  },
  "language_info": {
   "codemirror_mode": {
    "name": "ipython",
    "version": 3
   },
   "file_extension": ".py",
   "mimetype": "text/x-python",
   "name": "python",
   "nbconvert_exporter": "python",
   "pygments_lexer": "ipython3",
   "version": "3.11.1"
  }
 },
 "nbformat": 4,
 "nbformat_minor": 5
}
